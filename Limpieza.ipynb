{
 "cells": [
  {
   "cell_type": "code",
   "execution_count": 64,
   "id": "5ccaff02",
   "metadata": {},
   "outputs": [],
   "source": [
    "import pandas as pd "
   ]
  },
  {
   "cell_type": "code",
   "execution_count": 65,
   "id": "e1a3ab51",
   "metadata": {},
   "outputs": [
    {
     "data": {
      "text/html": [
       "<div>\n",
       "<style scoped>\n",
       "    .dataframe tbody tr th:only-of-type {\n",
       "        vertical-align: middle;\n",
       "    }\n",
       "\n",
       "    .dataframe tbody tr th {\n",
       "        vertical-align: top;\n",
       "    }\n",
       "\n",
       "    .dataframe thead th {\n",
       "        text-align: right;\n",
       "    }\n",
       "</style>\n",
       "<table border=\"1\" class=\"dataframe\">\n",
       "  <thead>\n",
       "    <tr style=\"text-align: right;\">\n",
       "      <th></th>\n",
       "      <th>PLANTAORIGEN</th>\n",
       "      <th>FECHADESPACHO</th>\n",
       "      <th>C_ID_VIAJE</th>\n",
       "      <th>FECHAVIAJE</th>\n",
       "      <th>C_CLIENTE</th>\n",
       "      <th>D_CLIENTE</th>\n",
       "      <th>ID_ESTADO</th>\n",
       "      <th>ESTADO</th>\n",
       "      <th>D_EMPRESA_TRANSPORTISTA</th>\n",
       "      <th>C_ID_CONDUCTOR</th>\n",
       "      <th>...</th>\n",
       "      <th>F_FINCARGA</th>\n",
       "      <th>F_PESAJESALIDA</th>\n",
       "      <th>TIPO_ASIGNACION</th>\n",
       "      <th>C_PLANTA</th>\n",
       "      <th>D_PLANTA</th>\n",
       "      <th>TIPO_PERMISO</th>\n",
       "      <th>PESO_NETO</th>\n",
       "      <th>CAP_MAXIMA</th>\n",
       "      <th>ZONA_DESTINO</th>\n",
       "      <th>CUIDAD</th>\n",
       "    </tr>\n",
       "  </thead>\n",
       "  <tbody>\n",
       "    <tr>\n",
       "      <th>0</th>\n",
       "      <td>Guerrero</td>\n",
       "      <td>06/11/2022 23:19</td>\n",
       "      <td>47103405</td>\n",
       "      <td>05-11-2022 15:16:00</td>\n",
       "      <td>NaN</td>\n",
       "      <td>CLIENTE58</td>\n",
       "      <td>19</td>\n",
       "      <td>Nuevo LeÃ³</td>\n",
       "      <td>TRANPORTE68</td>\n",
       "      <td>60118</td>\n",
       "      <td>...</td>\n",
       "      <td>06-11-2022 23:11:43</td>\n",
       "      <td>06-11-2022 23:19:19</td>\n",
       "      <td>NaN</td>\n",
       "      <td>GUE</td>\n",
       "      <td>Guerrero</td>\n",
       "      <td>Traslado Externo</td>\n",
       "      <td>38470</td>\n",
       "      <td>54.0</td>\n",
       "      <td>0</td>\n",
       "      <td>Monterrey</td>\n",
       "    </tr>\n",
       "    <tr>\n",
       "      <th>1</th>\n",
       "      <td>Guerrero</td>\n",
       "      <td>16/11/2022 14:58</td>\n",
       "      <td>47322566</td>\n",
       "      <td>19-11-2022 10:27:00</td>\n",
       "      <td>NaN</td>\n",
       "      <td>CLIENTE132</td>\n",
       "      <td>19</td>\n",
       "      <td>Nuevo Leon</td>\n",
       "      <td>TRANPORTE68</td>\n",
       "      <td>60118</td>\n",
       "      <td>...</td>\n",
       "      <td>16-11-2022 14:49:14</td>\n",
       "      <td>16-11-2022 14:58:16</td>\n",
       "      <td>MANUAL</td>\n",
       "      <td>GUE</td>\n",
       "      <td>Guerrero</td>\n",
       "      <td>Traslado Externo</td>\n",
       "      <td>31530</td>\n",
       "      <td>54.0</td>\n",
       "      <td>0</td>\n",
       "      <td>Cienega de Flores</td>\n",
       "    </tr>\n",
       "    <tr>\n",
       "      <th>2</th>\n",
       "      <td>Guerrero</td>\n",
       "      <td>18/11/2022 07:14</td>\n",
       "      <td>47358720</td>\n",
       "      <td>18-11-2022 00:20:00</td>\n",
       "      <td>NaN</td>\n",
       "      <td>CLIENTE58</td>\n",
       "      <td>19</td>\n",
       "      <td>Nuevo LeÃ³</td>\n",
       "      <td>TRANPORTE68</td>\n",
       "      <td>60118</td>\n",
       "      <td>...</td>\n",
       "      <td>18-11-2022 06:29:20</td>\n",
       "      <td>18-11-2022 07:14:21</td>\n",
       "      <td>NaN</td>\n",
       "      <td>GUE</td>\n",
       "      <td>Guerrero</td>\n",
       "      <td>Traslado Externo</td>\n",
       "      <td>39390</td>\n",
       "      <td>54.0</td>\n",
       "      <td>0</td>\n",
       "      <td>Monterrey</td>\n",
       "    </tr>\n",
       "    <tr>\n",
       "      <th>3</th>\n",
       "      <td>Guerrero</td>\n",
       "      <td>19/11/2022 07:46</td>\n",
       "      <td>47369172</td>\n",
       "      <td>18-11-2022 12:18:00</td>\n",
       "      <td>NaN</td>\n",
       "      <td>CLIENTE58</td>\n",
       "      <td>19</td>\n",
       "      <td>Nuevo LeÃ³</td>\n",
       "      <td>TRANPORTE68</td>\n",
       "      <td>60118</td>\n",
       "      <td>...</td>\n",
       "      <td>19-11-2022 06:42:20</td>\n",
       "      <td>19-11-2022 07:46:41</td>\n",
       "      <td>NaN</td>\n",
       "      <td>GUE</td>\n",
       "      <td>Guerrero</td>\n",
       "      <td>Traslado Externo</td>\n",
       "      <td>39850</td>\n",
       "      <td>54.0</td>\n",
       "      <td>0</td>\n",
       "      <td>Monterrey</td>\n",
       "    </tr>\n",
       "    <tr>\n",
       "      <th>4</th>\n",
       "      <td>Guerrero</td>\n",
       "      <td>23/11/2022 15:13</td>\n",
       "      <td>47480917</td>\n",
       "      <td>23-11-2022 23:59:00</td>\n",
       "      <td>H000232500</td>\n",
       "      <td>CLIENTE171</td>\n",
       "      <td>19</td>\n",
       "      <td>NUEVO LEÃ</td>\n",
       "      <td>TRANPORTE68</td>\n",
       "      <td>60118</td>\n",
       "      <td>...</td>\n",
       "      <td>23-11-2022 14:42:56</td>\n",
       "      <td>23-11-2022 15:13:50</td>\n",
       "      <td>MANUAL</td>\n",
       "      <td>GUE</td>\n",
       "      <td>Guerrero</td>\n",
       "      <td>Cliente ENVIA</td>\n",
       "      <td>31550</td>\n",
       "      <td>54.0</td>\n",
       "      <td>0</td>\n",
       "      <td>APODACA</td>\n",
       "    </tr>\n",
       "    <tr>\n",
       "      <th>...</th>\n",
       "      <td>...</td>\n",
       "      <td>...</td>\n",
       "      <td>...</td>\n",
       "      <td>...</td>\n",
       "      <td>...</td>\n",
       "      <td>...</td>\n",
       "      <td>...</td>\n",
       "      <td>...</td>\n",
       "      <td>...</td>\n",
       "      <td>...</td>\n",
       "      <td>...</td>\n",
       "      <td>...</td>\n",
       "      <td>...</td>\n",
       "      <td>...</td>\n",
       "      <td>...</td>\n",
       "      <td>...</td>\n",
       "      <td>...</td>\n",
       "      <td>...</td>\n",
       "      <td>...</td>\n",
       "      <td>...</td>\n",
       "      <td>...</td>\n",
       "    </tr>\n",
       "    <tr>\n",
       "      <th>9149</th>\n",
       "      <td>Guerrero</td>\n",
       "      <td>29/11/2022 14:34</td>\n",
       "      <td>47610758</td>\n",
       "      <td>06-12-2022 23:59:00</td>\n",
       "      <td>H000756702</td>\n",
       "      <td>CLIENTE6</td>\n",
       "      <td>19</td>\n",
       "      <td>NUEVO LEÃ</td>\n",
       "      <td>TRANPORTE63</td>\n",
       "      <td>106892</td>\n",
       "      <td>...</td>\n",
       "      <td>29-11-2022 14:14:02</td>\n",
       "      <td>29-11-2022 14:34:37</td>\n",
       "      <td>NaN</td>\n",
       "      <td>GUE</td>\n",
       "      <td>Guerrero</td>\n",
       "      <td>Cliente ENVIA</td>\n",
       "      <td>34580</td>\n",
       "      <td>54.0</td>\n",
       "      <td>0</td>\n",
       "      <td>GRAL ESCOBEDO</td>\n",
       "    </tr>\n",
       "    <tr>\n",
       "      <th>9150</th>\n",
       "      <td>Guerrero</td>\n",
       "      <td>29/11/2022 08:11</td>\n",
       "      <td>47599580</td>\n",
       "      <td>28-11-2022 23:59:00</td>\n",
       "      <td>N000100732</td>\n",
       "      <td>CLIENTE219</td>\n",
       "      <td>5</td>\n",
       "      <td>COAHUILA</td>\n",
       "      <td>TRANPORTE48</td>\n",
       "      <td>110244</td>\n",
       "      <td>...</td>\n",
       "      <td>29-11-2022 07:52:35</td>\n",
       "      <td>29-11-2022 08:11:45</td>\n",
       "      <td>MANUAL</td>\n",
       "      <td>GUE</td>\n",
       "      <td>Guerrero</td>\n",
       "      <td>Cliente ENVIA</td>\n",
       "      <td>19090</td>\n",
       "      <td>54.0</td>\n",
       "      <td>0</td>\n",
       "      <td>CD FRONTERA</td>\n",
       "    </tr>\n",
       "    <tr>\n",
       "      <th>9151</th>\n",
       "      <td>Guerrero</td>\n",
       "      <td>29/11/2022 08:11</td>\n",
       "      <td>47599580</td>\n",
       "      <td>28-11-2022 23:59:00</td>\n",
       "      <td>N000100723</td>\n",
       "      <td>CLIENTE219</td>\n",
       "      <td>5</td>\n",
       "      <td>COAHUILA</td>\n",
       "      <td>TRANPORTE48</td>\n",
       "      <td>110244</td>\n",
       "      <td>...</td>\n",
       "      <td>29-11-2022 07:52:35</td>\n",
       "      <td>29-11-2022 08:11:45</td>\n",
       "      <td>MANUAL</td>\n",
       "      <td>GUE</td>\n",
       "      <td>Guerrero</td>\n",
       "      <td>Cliente ENVIA</td>\n",
       "      <td>19090</td>\n",
       "      <td>54.0</td>\n",
       "      <td>0</td>\n",
       "      <td>CD FRONTERA</td>\n",
       "    </tr>\n",
       "    <tr>\n",
       "      <th>9152</th>\n",
       "      <td>Guerrero</td>\n",
       "      <td>29/11/2022 08:11</td>\n",
       "      <td>47599580</td>\n",
       "      <td>28-11-2022 23:59:00</td>\n",
       "      <td>N000100723</td>\n",
       "      <td>CLIENTE219</td>\n",
       "      <td>5</td>\n",
       "      <td>COAHUILA</td>\n",
       "      <td>TRANPORTE48</td>\n",
       "      <td>110244</td>\n",
       "      <td>...</td>\n",
       "      <td>29-11-2022 07:52:35</td>\n",
       "      <td>29-11-2022 08:11:45</td>\n",
       "      <td>MANUAL</td>\n",
       "      <td>GUE</td>\n",
       "      <td>Guerrero</td>\n",
       "      <td>Cliente ENVIA</td>\n",
       "      <td>19090</td>\n",
       "      <td>54.0</td>\n",
       "      <td>0</td>\n",
       "      <td>CD FRONTERA</td>\n",
       "    </tr>\n",
       "    <tr>\n",
       "      <th>9153</th>\n",
       "      <td>Guerrero</td>\n",
       "      <td>23/11/2022 16:37</td>\n",
       "      <td>47468966</td>\n",
       "      <td>25-11-2022 01:16:00</td>\n",
       "      <td>NaN</td>\n",
       "      <td>CLIENTE38</td>\n",
       "      <td>5</td>\n",
       "      <td>Chiapas</td>\n",
       "      <td>TRANPORTE61</td>\n",
       "      <td>110013</td>\n",
       "      <td>...</td>\n",
       "      <td>23-11-2022 15:25:13</td>\n",
       "      <td>23-11-2022 16:37:43</td>\n",
       "      <td>MANUAL</td>\n",
       "      <td>GUE</td>\n",
       "      <td>Guerrero</td>\n",
       "      <td>Traslado Externo</td>\n",
       "      <td>22880</td>\n",
       "      <td>54.0</td>\n",
       "      <td>0</td>\n",
       "      <td>Cd. Hidalgo</td>\n",
       "    </tr>\n",
       "  </tbody>\n",
       "</table>\n",
       "<p>9154 rows × 34 columns</p>\n",
       "</div>"
      ],
      "text/plain": [
       "     PLANTAORIGEN     FECHADESPACHO  C_ID_VIAJE           FECHAVIAJE  \\\n",
       "0        Guerrero  06/11/2022 23:19    47103405  05-11-2022 15:16:00   \n",
       "1        Guerrero  16/11/2022 14:58    47322566  19-11-2022 10:27:00   \n",
       "2        Guerrero  18/11/2022 07:14    47358720  18-11-2022 00:20:00   \n",
       "3        Guerrero  19/11/2022 07:46    47369172  18-11-2022 12:18:00   \n",
       "4        Guerrero  23/11/2022 15:13    47480917  23-11-2022 23:59:00   \n",
       "...           ...               ...         ...                  ...   \n",
       "9149     Guerrero  29/11/2022 14:34    47610758  06-12-2022 23:59:00   \n",
       "9150     Guerrero  29/11/2022 08:11    47599580  28-11-2022 23:59:00   \n",
       "9151     Guerrero  29/11/2022 08:11    47599580  28-11-2022 23:59:00   \n",
       "9152     Guerrero  29/11/2022 08:11    47599580  28-11-2022 23:59:00   \n",
       "9153     Guerrero  23/11/2022 16:37    47468966  25-11-2022 01:16:00   \n",
       "\n",
       "       C_CLIENTE   D_CLIENTE  ID_ESTADO      ESTADO D_EMPRESA_TRANSPORTISTA  \\\n",
       "0            NaN   CLIENTE58         19  Nuevo LeÃ³             TRANPORTE68   \n",
       "1            NaN  CLIENTE132         19  Nuevo Leon             TRANPORTE68   \n",
       "2            NaN   CLIENTE58         19  Nuevo LeÃ³             TRANPORTE68   \n",
       "3            NaN   CLIENTE58         19  Nuevo LeÃ³             TRANPORTE68   \n",
       "4     H000232500  CLIENTE171         19  NUEVO LEÃ             TRANPORTE68   \n",
       "...          ...         ...        ...         ...                     ...   \n",
       "9149  H000756702    CLIENTE6         19  NUEVO LEÃ             TRANPORTE63   \n",
       "9150  N000100732  CLIENTE219          5    COAHUILA             TRANPORTE48   \n",
       "9151  N000100723  CLIENTE219          5    COAHUILA             TRANPORTE48   \n",
       "9152  N000100723  CLIENTE219          5    COAHUILA             TRANPORTE48   \n",
       "9153         NaN   CLIENTE38          5     Chiapas             TRANPORTE61   \n",
       "\n",
       "      C_ID_CONDUCTOR  ...           F_FINCARGA       F_PESAJESALIDA  \\\n",
       "0              60118  ...  06-11-2022 23:11:43  06-11-2022 23:19:19   \n",
       "1              60118  ...  16-11-2022 14:49:14  16-11-2022 14:58:16   \n",
       "2              60118  ...  18-11-2022 06:29:20  18-11-2022 07:14:21   \n",
       "3              60118  ...  19-11-2022 06:42:20  19-11-2022 07:46:41   \n",
       "4              60118  ...  23-11-2022 14:42:56  23-11-2022 15:13:50   \n",
       "...              ...  ...                  ...                  ...   \n",
       "9149          106892  ...  29-11-2022 14:14:02  29-11-2022 14:34:37   \n",
       "9150          110244  ...  29-11-2022 07:52:35  29-11-2022 08:11:45   \n",
       "9151          110244  ...  29-11-2022 07:52:35  29-11-2022 08:11:45   \n",
       "9152          110244  ...  29-11-2022 07:52:35  29-11-2022 08:11:45   \n",
       "9153          110013  ...  23-11-2022 15:25:13  23-11-2022 16:37:43   \n",
       "\n",
       "     TIPO_ASIGNACION C_PLANTA  D_PLANTA      TIPO_PERMISO  PESO_NETO  \\\n",
       "0                NaN      GUE  Guerrero  Traslado Externo      38470   \n",
       "1             MANUAL      GUE  Guerrero  Traslado Externo      31530   \n",
       "2                NaN      GUE  Guerrero  Traslado Externo      39390   \n",
       "3                NaN      GUE  Guerrero  Traslado Externo      39850   \n",
       "4             MANUAL      GUE  Guerrero     Cliente ENVIA      31550   \n",
       "...              ...      ...       ...               ...        ...   \n",
       "9149             NaN      GUE  Guerrero     Cliente ENVIA      34580   \n",
       "9150          MANUAL      GUE  Guerrero     Cliente ENVIA      19090   \n",
       "9151          MANUAL      GUE  Guerrero     Cliente ENVIA      19090   \n",
       "9152          MANUAL      GUE  Guerrero     Cliente ENVIA      19090   \n",
       "9153          MANUAL      GUE  Guerrero  Traslado Externo      22880   \n",
       "\n",
       "     CAP_MAXIMA ZONA_DESTINO             CUIDAD  \n",
       "0          54.0            0          Monterrey  \n",
       "1          54.0            0  Cienega de Flores  \n",
       "2          54.0            0          Monterrey  \n",
       "3          54.0            0          Monterrey  \n",
       "4          54.0            0            APODACA  \n",
       "...         ...          ...                ...  \n",
       "9149       54.0            0      GRAL ESCOBEDO  \n",
       "9150       54.0            0        CD FRONTERA  \n",
       "9151       54.0            0        CD FRONTERA  \n",
       "9152       54.0            0        CD FRONTERA  \n",
       "9153       54.0            0        Cd. Hidalgo  \n",
       "\n",
       "[9154 rows x 34 columns]"
      ]
     },
     "metadata": {},
     "output_type": "display_data"
    }
   ],
   "source": [
    "viajes = pd.read_csv('AsignacionViajesITESM.csv', encoding='latin-1')\n",
    "display(viajes)"
   ]
  },
  {
   "cell_type": "code",
   "execution_count": 66,
   "id": "854a36c0",
   "metadata": {},
   "outputs": [],
   "source": [
    "columns = viajes.columns"
   ]
  },
  {
   "cell_type": "code",
   "execution_count": 69,
   "id": "70da7e58",
   "metadata": {},
   "outputs": [],
   "source": [
    "viajes['ESTADO'] = viajes['ESTADO'].str.lower()\n",
    "viajes['ESTADO'] = viajes['ESTADO'].replace(['nuevo leã³', 'nuevo leã', 'nuevo leon'], 'nuevo león')\n",
    "viajes['ESTADO'] = viajes['ESTADO'].replace(['san luis potosã', 'san luis potosi'], 'san luis potosí')\n",
    "viajes['ESTADO'] = viajes['ESTADO'].replace('estado de mãxic', 'estado de méxico')\n",
    "viajes['ESTADO'] = viajes['ESTADO'].replace('ciudad de mãxic', 'ciudad de méxico')\n",
    "viajes['ESTADO'] = viajes['ESTADO'].replace('querãtar', 'querétaro')\n",
    "viajes['ESTADO'] = viajes['ESTADO'].replace(['yucatã¡', 'yucatã'], 'yucatán')\n",
    "viajes['ESTADO'] = viajes['ESTADO'].replace('michoacã', 'michoacán')\n",
    "viajes['ESTADO'] = viajes['ESTADO'].str.title()"
   ]
  },
  {
   "cell_type": "code",
   "execution_count": 70,
   "id": "541fe07d",
   "metadata": {},
   "outputs": [],
   "source": [
    "viajes['TIPOCAMION'] = viajes['TIPOCAMION'].replace('Plataforma 3 ejes NeumÃ¡tic', 'Plataforma 3 ejes Neumátic')\n",
    "viajes['TIPOCAMION'] = viajes['TIPOCAMION'].replace('Plataforma 3 ejes NeumÃ¡tica Cort', 'Plataforma 3 ejes Neumática Cort')\n",
    "viajes['TIPOCAMION'] = viajes['TIPOCAMION'].replace(['Plataforma 3 Ejes NeumÃ¡tica Cortin', 'Plataforma 3 ejes NeumÃ¡tica Cortin'], 'Plataforma 3 ejes Neumática Cortin')\n",
    "viajes['TIPOCAMION'] = viajes['TIPOCAMION'].replace('Plataforma 3 ejes NeumÃ¡tica BIG COI', 'Plataforma 3 ejes Neumática BIG COI')\n",
    "viajes['TIPOCAMION'] = viajes['TIPOCAMION'].replace('Plataforma 2 ejes NeumÃ¡tic', 'Plataforma 2 ejes Neumátic')\n",
    " "
   ]
  },
  {
   "cell_type": "code",
   "execution_count": 71,
   "id": "df4f4226",
   "metadata": {},
   "outputs": [
    {
     "name": "stdout",
     "output_type": "stream",
     "text": [
      "PLANTAORIGEN\n"
     ]
    },
    {
     "data": {
      "text/plain": [
       "Guerrero    9154\n",
       "Name: PLANTAORIGEN, dtype: int64"
      ]
     },
     "metadata": {},
     "output_type": "display_data"
    },
    {
     "name": "stdout",
     "output_type": "stream",
     "text": [
      "FECHADESPACHO\n"
     ]
    },
    {
     "data": {
      "text/plain": [
       "28/10/2022 18:45       31\n",
       "08/10/2022 14:34       24\n",
       "07/10/2022 20:16       24\n",
       "24/10/2022 04:07       23\n",
       "12/11/2022 00:31       22\n",
       "                       ..\n",
       "11/11/2022 15:17        1\n",
       "10/11/2022 00:07        1\n",
       "05/11/2022 05:38        1\n",
       "02-10-2022 12:36:01     1\n",
       "23/11/2022 16:37        1\n",
       "Name: FECHADESPACHO, Length: 7124, dtype: int64"
      ]
     },
     "metadata": {},
     "output_type": "display_data"
    },
    {
     "name": "stdout",
     "output_type": "stream",
     "text": [
      "C_ID_VIAJE\n"
     ]
    },
    {
     "data": {
      "text/plain": [
       "46927909    31\n",
       "46461286    24\n",
       "46440893    24\n",
       "46810998    23\n",
       "47231837    22\n",
       "            ..\n",
       "47397224     1\n",
       "47411664     1\n",
       "47322460     1\n",
       "47316750     1\n",
       "47468966     1\n",
       "Name: C_ID_VIAJE, Length: 7511, dtype: int64"
      ]
     },
     "metadata": {},
     "output_type": "display_data"
    },
    {
     "name": "stdout",
     "output_type": "stream",
     "text": [
      "FECHAVIAJE\n"
     ]
    },
    {
     "data": {
      "text/plain": [
       "16-11-2022 23:59:00    204\n",
       "18-11-2022 23:59:00    159\n",
       "28-11-2022 23:59:00    153\n",
       "15-11-2022 23:59:00    125\n",
       "02-11-2022 23:59:00    121\n",
       "                      ... \n",
       "07-11-2022 14:41:00      1\n",
       "11-11-2022 13:25:00      1\n",
       "21-11-2022 19:36:00      1\n",
       "11-11-2022 14:43:00      1\n",
       "25-11-2022 01:16:00      1\n",
       "Name: FECHAVIAJE, Length: 2842, dtype: int64"
      ]
     },
     "metadata": {},
     "output_type": "display_data"
    },
    {
     "name": "stdout",
     "output_type": "stream",
     "text": [
      "C_CLIENTE\n"
     ]
    },
    {
     "data": {
      "text/plain": [
       "H000269647    783\n",
       "H010005034    582\n",
       "H000126500    514\n",
       "H000122204    411\n",
       "H000041807    164\n",
       "             ... \n",
       "H010519366      1\n",
       "N000000070      1\n",
       "N000191639      1\n",
       "H000893400      1\n",
       "H000148817      1\n",
       "Name: C_CLIENTE, Length: 196, dtype: int64"
      ]
     },
     "metadata": {},
     "output_type": "display_data"
    },
    {
     "name": "stdout",
     "output_type": "stream",
     "text": [
      "D_CLIENTE\n"
     ]
    },
    {
     "data": {
      "text/plain": [
       "CLIENTE58     1481\n",
       "CLIENTE224     856\n",
       "CLIENTE157     783\n",
       "CLIENTE190     673\n",
       "CLIENTE177     514\n",
       "              ... \n",
       "CLIENTE164       1\n",
       "CLIENTE180       1\n",
       "CLIENTE46        1\n",
       "CLIENTE92        1\n",
       "CLIENTE86        1\n",
       "Name: D_CLIENTE, Length: 228, dtype: int64"
      ]
     },
     "metadata": {},
     "output_type": "display_data"
    },
    {
     "name": "stdout",
     "output_type": "stream",
     "text": [
      "ID_ESTADO\n"
     ]
    },
    {
     "data": {
      "text/plain": [
       "19    7264\n",
       "28     683\n",
       "5      411\n",
       "15     163\n",
       "29     137\n",
       "2      118\n",
       "24      82\n",
       "14      54\n",
       "8       42\n",
       "11      32\n",
       "22      30\n",
       "9       26\n",
       "7       21\n",
       "6       18\n",
       "26      17\n",
       "13      16\n",
       "1       12\n",
       "21       7\n",
       "30       6\n",
       "31       6\n",
       "17       3\n",
       "25       2\n",
       "16       2\n",
       "27       1\n",
       "20       1\n",
       "Name: ID_ESTADO, dtype: int64"
      ]
     },
     "metadata": {},
     "output_type": "display_data"
    },
    {
     "name": "stdout",
     "output_type": "stream",
     "text": [
      "ESTADO\n"
     ]
    },
    {
     "data": {
      "text/plain": [
       "Nuevo León          7264\n",
       "Tamaulipas           815\n",
       "Coahuila             316\n",
       "Mexico               121\n",
       "Baja California      118\n",
       "Chiapas              116\n",
       "San Luis Potosí       82\n",
       "Chihuahua             60\n",
       "Jalisco               54\n",
       "Estado De México      42\n",
       "Guanajuato            32\n",
       "Querétaro             30\n",
       "Ciudad De México      26\n",
       "Sonora                17\n",
       "Hidalgo               16\n",
       "Aguascalientes        12\n",
       "Puebla                 7\n",
       "Veracruz               6\n",
       "Yucatán                6\n",
       "Tlaxcala               5\n",
       "Morelos                3\n",
       "Sinaloa                2\n",
       "Michoacán              2\n",
       "Tabasco                1\n",
       "Oaxaca                 1\n",
       "Name: ESTADO, dtype: int64"
      ]
     },
     "metadata": {},
     "output_type": "display_data"
    },
    {
     "name": "stdout",
     "output_type": "stream",
     "text": [
      "D_EMPRESA_TRANSPORTISTA\n"
     ]
    },
    {
     "data": {
      "text/plain": [
       "TRANPORTE68    1323\n",
       "TRANPORTE59     935\n",
       "TRANPORTE38     823\n",
       "TRANPORTE70     613\n",
       "TRANPORTE63     541\n",
       "               ... \n",
       "TRANPORTE21       2\n",
       "TRANPORTE18       2\n",
       "TRANPORTE54       1\n",
       "TRANPORTE5        1\n",
       "TRANPORTE36       1\n",
       "Name: D_EMPRESA_TRANSPORTISTA, Length: 68, dtype: int64"
      ]
     },
     "metadata": {},
     "output_type": "display_data"
    },
    {
     "name": "stdout",
     "output_type": "stream",
     "text": [
      "C_ID_CONDUCTOR\n"
     ]
    },
    {
     "data": {
      "text/plain": [
       "92866     312\n",
       "93343     216\n",
       "95974     125\n",
       "108935     62\n",
       "79840      59\n",
       "         ... \n",
       "110515      1\n",
       "64917       1\n",
       "111119      1\n",
       "108889      1\n",
       "110047      1\n",
       "Name: C_ID_CONDUCTOR, Length: 984, dtype: int64"
      ]
     },
     "metadata": {},
     "output_type": "display_data"
    },
    {
     "name": "stdout",
     "output_type": "stream",
     "text": [
      "NOM_APE_COND\n"
     ]
    },
    {
     "data": {
      "text/plain": [
       "CHOFER769    312\n",
       "CHOFER199    216\n",
       "CHOFER103    125\n",
       "CHOFER899     62\n",
       "CHOFER56      59\n",
       "            ... \n",
       "CHOFER334      1\n",
       "CHOFER85       1\n",
       "CHOFER449      1\n",
       "CHOFER45       1\n",
       "CHOFER741      1\n",
       "Name: NOM_APE_COND, Length: 962, dtype: int64"
      ]
     },
     "metadata": {},
     "output_type": "display_data"
    },
    {
     "name": "stdout",
     "output_type": "stream",
     "text": [
      "TIPO_SERVICIO\n"
     ]
    },
    {
     "data": {
      "text/plain": [
       "LO    8982\n",
       "FO     172\n",
       "Name: TIPO_SERVICIO, dtype: int64"
      ]
     },
     "metadata": {},
     "output_type": "display_data"
    },
    {
     "name": "stdout",
     "output_type": "stream",
     "text": [
      "TIPOCAMION\n"
     ]
    },
    {
     "data": {
      "text/plain": [
       "Plataforma 3 ejes Neumátic                       5661\n",
       "Plataforma 3 ejes Neumática Cort                 1046\n",
       "Plataforma 3 ejes Neumática Cortin                987\n",
       "Plataforma 3 ejes Neumática BIG COI               593\n",
       "Plataforma 2 ejes Neumátic                        295\n",
       "Torton                                            221\n",
       "Plataforma 3 Ejes NeumÃ¡tica Ultra Liger          177\n",
       "Plataforma 3 ejes Muelles                          58\n",
       "Plataforma 3 Ejes NeumÃ¡tica Corta Liger           43\n",
       "Plataforma 3 ejes NeumÃ¡tica Bases Portacinta      26\n",
       "Plataforma 2 ejes Muelles                          17\n",
       "TOLVA                                              14\n",
       "Caja seca 2 ejes NeumÃ¡tica Larg                    9\n",
       "Caja seca 2 ejes NeumÃ¡tic                          7\n",
       "Name: TIPOCAMION, dtype: int64"
      ]
     },
     "metadata": {},
     "output_type": "display_data"
    },
    {
     "name": "stdout",
     "output_type": "stream",
     "text": [
      "TIPOTRANSPORTE\n"
     ]
    },
    {
     "data": {
      "text/plain": [
       "Plataforma 3 ejes NeumÃ¡tic                 5661\n",
       "Plataforma 3 Ejes NeumÃ¡tica Cort           1046\n",
       "Plataforma 3 Ejes NeumÃ¡tica Cortin          622\n",
       "Plataforma 3 ejes NeumÃ¡tica BIG COI         593\n",
       "Plataforma 3 ejes NeumÃ¡tica Cortin          365\n",
       "Plataforma 2 ejes NeumÃ¡tic                  295\n",
       "Torton                                       221\n",
       "Plataforma 3 Ejes NeumÃ¡tica Ultra Liger     177\n",
       "Plataforma 3 ejes Muelles                     58\n",
       "Plataforma 3 Ejes NeumÃ¡tica Corta Liger      43\n",
       "Plataforma 3 ejes NeumÃ¡tica Portacinta       26\n",
       "Plataforma 2 ejes Muelles                     17\n",
       "TOLVA                                         14\n",
       "Caja seca 2 ejes NeumÃ¡tica Larg               9\n",
       "Caja seca 2 ejes NeumÃ¡tic                     7\n",
       "Name: TIPOTRANSPORTE, dtype: int64"
      ]
     },
     "metadata": {},
     "output_type": "display_data"
    },
    {
     "name": "stdout",
     "output_type": "stream",
     "text": [
      "TIPO_PRODUCTO\n"
     ]
    },
    {
     "data": {
      "text/plain": [
       "ROLLO                           6326\n",
       "CINTA                           1725\n",
       "HOJA                             371\n",
       "CINTA,HOJA                       275\n",
       "CINTA,ROLLO                       95\n",
       "REDONDO                           68\n",
       "CUADRADO,REDONDO                  68\n",
       "BANDA                             43\n",
       "CUADRADO                          36\n",
       "BANDA,ROLLO                       34\n",
       "CHATARRA                          20\n",
       "HOJA,ROLLO                        19\n",
       "CUADRADO,RECTANGULAR,REDONDO      14\n",
       "POLIN Z                           13\n",
       "ALAMBRON                          10\n",
       "CINTA,HOJA,ROLLO                  10\n",
       "RECTANGULAR,REDONDO                9\n",
       "CUADRADO,ROLLO                     6\n",
       "RECTANGULAR                        4\n",
       "CINTA,POLIN Z                      3\n",
       "CUADRADO,REDONDO,ROLLO             2\n",
       "BANDA,HOJA                         2\n",
       "CUADRADO,RECTANGULAR               1\n",
       "Name: TIPO_PRODUCTO, dtype: int64"
      ]
     },
     "metadata": {},
     "output_type": "display_data"
    },
    {
     "name": "stdout",
     "output_type": "stream",
     "text": [
      "TIPO_FORMA\n"
     ]
    },
    {
     "data": {
      "text/plain": [
       "PLANOS          8900\n",
       "TUBOS            200\n",
       "SUBPRODUCTOS      20\n",
       "POLIN             13\n",
       "LARGOS            10\n",
       "PLANOS,TUBOS       8\n",
       "PLANOS,POLIN       3\n",
       "Name: TIPO_FORMA, dtype: int64"
      ]
     },
     "metadata": {},
     "output_type": "display_data"
    },
    {
     "name": "stdout",
     "output_type": "stream",
     "text": [
      "CANT_PROGRAMADA\n"
     ]
    },
    {
     "data": {
      "text/plain": [
       "25.929    31\n",
       "33.342    25\n",
       "32.268    24\n",
       "21.270    24\n",
       "32.296    23\n",
       "          ..\n",
       "37.165     1\n",
       "33.122     1\n",
       "33.021     1\n",
       "20.921     1\n",
       "22.789     1\n",
       "Name: CANT_PROGRAMADA, Length: 5065, dtype: int64"
      ]
     },
     "metadata": {},
     "output_type": "display_data"
    },
    {
     "name": "stdout",
     "output_type": "stream",
     "text": [
      "F_PRESENTACION\n"
     ]
    },
    {
     "data": {
      "text/plain": [
       "28-10-2022 17:21:02    31\n",
       "07-10-2022 18:43:20    24\n",
       "08-10-2022 11:18:55    24\n",
       "24-10-2022 02:52:13    23\n",
       "11-11-2022 21:36:47    22\n",
       "                       ..\n",
       "20-11-2022 18:05:51     1\n",
       "18-11-2022 05:57:06     1\n",
       "16-11-2022 05:23:34     1\n",
       "14-11-2022 21:20:20     1\n",
       "23-11-2022 11:54:18     1\n",
       "Name: F_PRESENTACION, Length: 7505, dtype: int64"
      ]
     },
     "metadata": {},
     "output_type": "display_data"
    },
    {
     "name": "stdout",
     "output_type": "stream",
     "text": [
      "F_LLEGADANAVE\n"
     ]
    },
    {
     "data": {
      "text/plain": [
       "28-10-2022 17:48:27    31\n",
       "07-10-2022 19:07:03    24\n",
       "08-10-2022 12:38:39    24\n",
       "24-10-2022 03:17:29    23\n",
       "11-11-2022 23:05:34    22\n",
       "                       ..\n",
       "24-11-2022 00:16:55     1\n",
       "21-11-2022 12:39:25     1\n",
       "20-11-2022 18:36:22     1\n",
       "18-11-2022 06:08:59     1\n",
       "23-11-2022 15:23:26     1\n",
       "Name: F_LLEGADANAVE, Length: 7500, dtype: int64"
      ]
     },
     "metadata": {},
     "output_type": "display_data"
    },
    {
     "name": "stdout",
     "output_type": "stream",
     "text": [
      "F_EGRESONAVE\n"
     ]
    },
    {
     "data": {
      "text/plain": [
       "28-10-2022 17:57:23    31\n",
       "07-10-2022 19:09:33    24\n",
       "08-10-2022 12:44:17    24\n",
       "24-10-2022 03:45:40    23\n",
       "11-11-2022 23:13:36    22\n",
       "                       ..\n",
       "20-11-2022 20:20:05     1\n",
       "18-11-2022 09:24:18     1\n",
       "16-11-2022 06:21:40     1\n",
       "15-11-2022 00:02:03     1\n",
       "23-11-2022 15:25:13     1\n",
       "Name: F_EGRESONAVE, Length: 7448, dtype: int64"
      ]
     },
     "metadata": {},
     "output_type": "display_data"
    },
    {
     "name": "stdout",
     "output_type": "stream",
     "text": [
      "F_INGRESOPLANTA\n"
     ]
    },
    {
     "data": {
      "text/plain": [
       "28-10-2022 17:21:03    31\n",
       "08-10-2022 11:18:57    24\n",
       "07-10-2022 18:43:21    24\n",
       "24-10-2022 02:52:14    23\n",
       "11-11-2022 21:36:48    22\n",
       "                       ..\n",
       "20-11-2022 18:05:52     1\n",
       "18-11-2022 05:57:07     1\n",
       "16-11-2022 05:23:35     1\n",
       "14-11-2022 21:20:21     1\n",
       "23-11-2022 11:54:18     1\n",
       "Name: F_INGRESOPLANTA, Length: 7504, dtype: int64"
      ]
     },
     "metadata": {},
     "output_type": "display_data"
    },
    {
     "name": "stdout",
     "output_type": "stream",
     "text": [
      "F_PESAJEENTRADA\n"
     ]
    },
    {
     "data": {
      "text/plain": [
       "28-10-2022 17:26:14    31\n",
       "07-10-2022 18:48:58    24\n",
       "08-10-2022 11:24:22    24\n",
       "24-10-2022 02:57:18    23\n",
       "11-11-2022 21:42:53    22\n",
       "                       ..\n",
       "18-11-2022 06:01:00     1\n",
       "16-11-2022 05:24:56     1\n",
       "14-11-2022 21:21:54     1\n",
       "13-11-2022 20:09:29     1\n",
       "23-11-2022 12:04:13     1\n",
       "Name: F_PESAJEENTRADA, Length: 6876, dtype: int64"
      ]
     },
     "metadata": {},
     "output_type": "display_data"
    },
    {
     "name": "stdout",
     "output_type": "stream",
     "text": [
      "F_ASIGVIAJE\n"
     ]
    },
    {
     "data": {
      "text/plain": [
       "28-10-2022 17:27:12    31\n",
       "07-10-2022 19:00:40    24\n",
       "08-10-2022 11:24:17    24\n",
       "24-10-2022 02:55:05    23\n",
       "11-11-2022 21:43:23    22\n",
       "                       ..\n",
       "23-11-2022 23:43:50     1\n",
       "21-11-2022 10:12:02     1\n",
       "20-11-2022 18:26:53     1\n",
       "18-11-2022 05:59:38     1\n",
       "23-11-2022 12:10:33     1\n",
       "Name: F_ASIGVIAJE, Length: 7491, dtype: int64"
      ]
     },
     "metadata": {},
     "output_type": "display_data"
    },
    {
     "name": "stdout",
     "output_type": "stream",
     "text": [
      "F_INICIOCARGABULTO\n"
     ]
    },
    {
     "data": {
      "text/plain": [
       "28-10-2022 17:48:28    31\n",
       "08-10-2022 12:38:40    24\n",
       "07-10-2022 19:07:03    24\n",
       "24-10-2022 03:45:33    23\n",
       "11-11-2022 23:05:34    22\n",
       "                       ..\n",
       "20-11-2022 18:46:16     1\n",
       "18-11-2022 07:58:04     1\n",
       "16-11-2022 05:40:05     1\n",
       "14-11-2022 23:16:45     1\n",
       "23-11-2022 15:23:27     1\n",
       "Name: F_INICIOCARGABULTO, Length: 7500, dtype: int64"
      ]
     },
     "metadata": {},
     "output_type": "display_data"
    },
    {
     "name": "stdout",
     "output_type": "stream",
     "text": [
      "F_FINCARGA\n"
     ]
    },
    {
     "data": {
      "text/plain": [
       "28-10-2022 17:57:23    31\n",
       "07-10-2022 19:09:33    24\n",
       "08-10-2022 12:44:17    24\n",
       "24-10-2022 03:45:40    23\n",
       "11-11-2022 23:13:35    22\n",
       "                       ..\n",
       "18-11-2022 09:24:16     1\n",
       "16-11-2022 06:12:01     1\n",
       "14-11-2022 23:44:16     1\n",
       "13-11-2022 21:22:25     1\n",
       "23-11-2022 15:25:13     1\n",
       "Name: F_FINCARGA, Length: 7499, dtype: int64"
      ]
     },
     "metadata": {},
     "output_type": "display_data"
    },
    {
     "name": "stdout",
     "output_type": "stream",
     "text": [
      "F_PESAJESALIDA\n"
     ]
    },
    {
     "data": {
      "text/plain": [
       "28-10-2022 18:45:43    31\n",
       "08-10-2022 14:34:29    24\n",
       "07-10-2022 20:16:57    24\n",
       "24-10-2022 04:07:20    23\n",
       "12-11-2022 00:31:36    22\n",
       "                       ..\n",
       "24-11-2022 01:27:16     1\n",
       "21-11-2022 12:56:31     1\n",
       "20-11-2022 20:32:27     1\n",
       "18-11-2022 09:59:58     1\n",
       "23-11-2022 16:37:43     1\n",
       "Name: F_PESAJESALIDA, Length: 6875, dtype: int64"
      ]
     },
     "metadata": {},
     "output_type": "display_data"
    },
    {
     "name": "stdout",
     "output_type": "stream",
     "text": [
      "TIPO_ASIGNACION\n"
     ]
    },
    {
     "data": {
      "text/plain": [
       "MANUAL        5380\n",
       "AUTOMATICA    1304\n",
       "Name: TIPO_ASIGNACION, dtype: int64"
      ]
     },
     "metadata": {},
     "output_type": "display_data"
    },
    {
     "name": "stdout",
     "output_type": "stream",
     "text": [
      "C_PLANTA\n"
     ]
    },
    {
     "data": {
      "text/plain": [
       "GUE    9154\n",
       "Name: C_PLANTA, dtype: int64"
      ]
     },
     "metadata": {},
     "output_type": "display_data"
    },
    {
     "name": "stdout",
     "output_type": "stream",
     "text": [
      "D_PLANTA\n"
     ]
    },
    {
     "data": {
      "text/plain": [
       "Guerrero    9154\n",
       "Name: D_PLANTA, dtype: int64"
      ]
     },
     "metadata": {},
     "output_type": "display_data"
    },
    {
     "name": "stdout",
     "output_type": "stream",
     "text": [
      "TIPO_PERMISO\n"
     ]
    },
    {
     "data": {
      "text/plain": [
       "Cliente ENVIA                  4787\n",
       "Traslado Externo               3592\n",
       "Traslado Externo sin Pesada     634\n",
       "Despacho                        141\n",
       "Name: TIPO_PERMISO, dtype: int64"
      ]
     },
     "metadata": {},
     "output_type": "display_data"
    },
    {
     "name": "stdout",
     "output_type": "stream",
     "text": [
      "PESO_NETO\n"
     ]
    },
    {
     "data": {
      "text/plain": [
       "0        634\n",
       "21510     31\n",
       "25790     31\n",
       "21170     28\n",
       "33220     27\n",
       "        ... \n",
       "16060      1\n",
       "26420      1\n",
       "31110      1\n",
       "24610      1\n",
       "33090      1\n",
       "Name: PESO_NETO, Length: 2233, dtype: int64"
      ]
     },
     "metadata": {},
     "output_type": "display_data"
    },
    {
     "name": "stdout",
     "output_type": "stream",
     "text": [
      "CAP_MAXIMA\n"
     ]
    },
    {
     "data": {
      "text/plain": [
       "54.0    8382\n",
       "46.5     308\n",
       "24.5     208\n",
       "51.0     172\n",
       "48.0      47\n",
       "41.5      17\n",
       "27.0      13\n",
       "55.5       3\n",
       "63.0       3\n",
       "43.5       1\n",
       "Name: CAP_MAXIMA, dtype: int64"
      ]
     },
     "metadata": {},
     "output_type": "display_data"
    },
    {
     "name": "stdout",
     "output_type": "stream",
     "text": [
      "ZONA_DESTINO\n"
     ]
    },
    {
     "data": {
      "text/plain": [
       "0                         8895\n",
       "Customizados MP (M3)       245\n",
       "Zna PNE                      7\n",
       "Norte                        3\n",
       "Frios Oriente Norte N1       2\n",
       "Salida TMP Entrada TNS       1\n",
       "Decapado                     1\n",
       "Name: ZONA_DESTINO, dtype: int64"
      ]
     },
     "metadata": {},
     "output_type": "display_data"
    },
    {
     "name": "stdout",
     "output_type": "stream",
     "text": [
      "CUIDAD\n"
     ]
    },
    {
     "data": {
      "text/plain": [
       "APODACA                 1968\n",
       "Monterrey               1494\n",
       "San Nicolas de los G    1166\n",
       "GRAL ESCOBEDO            749\n",
       "NUEVO LAREDO             582\n",
       "                        ... \n",
       "ECUANDUREO                 1\n",
       "CIUDAD FRONTERA            1\n",
       "PARAISO                    1\n",
       "Altamira                   1\n",
       "MÃ©rid                     1\n",
       "Name: CUIDAD, Length: 97, dtype: int64"
      ]
     },
     "metadata": {},
     "output_type": "display_data"
    }
   ],
   "source": [
    "for column in columns:\n",
    "    print(column)\n",
    "    display(viajes[column].value_counts())"
   ]
  },
  {
   "cell_type": "code",
   "execution_count": 72,
   "id": "b3d012e2",
   "metadata": {},
   "outputs": [
    {
     "name": "stdout",
     "output_type": "stream",
     "text": [
      "PLANTAORIGEN has NO missing value!\n",
      "FECHADESPACHO has NO missing value!\n",
      "C_ID_VIAJE has NO missing value!\n",
      "FECHAVIAJE has NO missing value!\n",
      "C_CLIENTE has 4273 missing value(s)\n",
      "D_CLIENTE has 18 missing value(s)\n",
      "ID_ESTADO has NO missing value!\n",
      "ESTADO has NO missing value!\n",
      "D_EMPRESA_TRANSPORTISTA has NO missing value!\n",
      "C_ID_CONDUCTOR has NO missing value!\n",
      "NOM_APE_COND has 1 missing value(s)\n",
      "TIPO_SERVICIO has NO missing value!\n",
      "TIPOCAMION has NO missing value!\n",
      "TIPOTRANSPORTE has NO missing value!\n",
      "TIPO_PRODUCTO has NO missing value!\n",
      "TIPO_FORMA has NO missing value!\n",
      "CANT_PROGRAMADA has NO missing value!\n",
      "F_PRESENTACION has NO missing value!\n",
      "F_LLEGADANAVE has NO missing value!\n",
      "F_EGRESONAVE has 55 missing value(s)\n",
      "F_INGRESOPLANTA has 1 missing value(s)\n",
      "F_PESAJEENTRADA has 627 missing value(s)\n",
      "F_ASIGVIAJE has 12 missing value(s)\n",
      "F_INICIOCARGABULTO has NO missing value!\n",
      "F_FINCARGA has NO missing value!\n",
      "F_PESAJESALIDA has 634 missing value(s)\n",
      "TIPO_ASIGNACION has 2470 missing value(s)\n",
      "C_PLANTA has NO missing value!\n",
      "D_PLANTA has NO missing value!\n",
      "TIPO_PERMISO has NO missing value!\n",
      "PESO_NETO has NO missing value!\n",
      "CAP_MAXIMA has NO missing value!\n",
      "ZONA_DESTINO has NO missing value!\n",
      "CUIDAD has NO missing value!\n"
     ]
    }
   ],
   "source": [
    "for col in viajes.columns:\n",
    "    miss = viajes[col].isnull().sum()\n",
    "    if miss>0:\n",
    "        print(\"{} has {} missing value(s)\".format(col,miss))\n",
    "    else:\n",
    "        print(\"{} has NO missing value!\".format(col))"
   ]
  }
 ],
 "metadata": {
  "kernelspec": {
   "display_name": "Python 3 (ipykernel)",
   "language": "python",
   "name": "python3"
  },
  "language_info": {
   "codemirror_mode": {
    "name": "ipython",
    "version": 3
   },
   "file_extension": ".py",
   "mimetype": "text/x-python",
   "name": "python",
   "nbconvert_exporter": "python",
   "pygments_lexer": "ipython3",
   "version": "3.11.2"
  }
 },
 "nbformat": 4,
 "nbformat_minor": 5
}
